{
 "cells": [
  {
   "cell_type": "code",
   "execution_count": 1,
   "id": "8eab85eb-7992-4024-965e-22cfc8eb5b8b",
   "metadata": {},
   "outputs": [
    {
     "name": "stdout",
     "output_type": "stream",
     "text": [
      "Welcome to JupyROOT 6.30/07\n"
     ]
    },
    {
     "name": "stderr",
     "output_type": "stream",
     "text": [
      "Warning in <Fit>: Abnormal termination of minimization.\n",
      "Info in <TCanvas::MakeDefCanvas>:  created default TCanvas with name c1\n",
      "Warning in <TCanvas::Constructor>: Deleting canvas with same name: c1\n"
     ]
    },
    {
     "name": "stdout",
     "output_type": "stream",
     "text": [
      "****************************************\n",
      "         Invalid FitResult  (status = 2 )\n",
      "****************************************\n",
      "Minimizer is Minuit2 / Migrad\n",
      "Chi2                      =      60.4411\n",
      "NDf                       =           54\n",
      "Edm                       =  1.47042e-18\n",
      "NCalls                    =          102\n",
      "bg_const                  =    -0.896424   +/-   0           \n",
      "bg_linear                 =      45.0577   +/-   0           \n",
      "Fit Status: 2\n",
      "bg_quad                   =     -13.0281   +/-   0           \n",
      "peak_amp                  =      14.8596   +/-   0           \n",
      "p4                        =            1   +/-   0           \n",
      "p5                        =            1   +/-   0           \n",
      "Chi2/NDF: 1.119279413097717\n",
      "bg_const: -0.896 ± 0.000\n",
      "bg_linear: 45.058 ± 0.000\n",
      "bg_quad: -13.028 ± 0.000\n",
      "peak_amp: 14.860 ± 0.000\n",
      "p4: 1.000 ± 0.000\n",
      "p5: 1.000 ± 0.000\n"
     ]
    },
    {
     "data": {
      "image/png": "[encoded data removed]",
      "text/plain": [
       "<IPython.core.display.Image object>"
      ]
     },
     "metadata": {},
     "output_type": "display_data"
    }
   ],
   "source": [
    "import ROOT\n",
    "\n",
    "data = [ 6,1,10,12,6,13,23,22,15,21,\n",
    "         23,26,36,25,27,35,40,44,66,81,\n",
    "         75,57,48,45,46,41,35,36,53,32,\n",
    "         40,37,38,31,36,44,42,37,32,32,\n",
    "         43,44,35,33,33,39,29,41,32,44,\n",
    "         26,39,29,35,32,21,21,15,25,15 ]\n",
    "\n",
    "title = 'Lorentzian Peak on Quadratic Background'\n",
    "h = ROOT.TH1F('histo', title, nbinsx=60, xlow=0, xup=3)\n",
    "\n",
    "for i, x in enumerate(data):\n",
    "   h.SetBinContent(i+1, x) # bin 0 is the underflow bin!\n",
    "ROOT.gInterpreter.Declare(\"\"\"\n",
    "double background(double *x, double *par) {\n",
    "  return par[0] + par[1]*x[0] + par[2]*x[0]*x[0];\n",
    "}\n",
    "\n",
    "double lorentzianPeak(double *x, double *par) {\n",
    "  return (0.5*par[0]*0.2/TMath::Pi())\n",
    "         / TMath::Max(1.e-10, (x[0] - 1.)*(x[0] - 1.) + .25*0.04);\n",
    "}\n",
    "\n",
    "double fitFunction(double *x, double *par) {\n",
    "  return background(x, par) + lorentzianPeak(x, &par[3]);\n",
    "}\n",
    "\"\"\")\n",
    "fit = ROOT.TF1(\"fit\", ROOT.fitFunction, 0, 3, 6)\n",
    "fit.SetParName(0, \"bg_const\")\n",
    "fit.SetParName(1, \"bg_linear\") \n",
    "fit.SetParName(2, \"bg_quad\")\n",
    "fit.SetParName(3, \"peak_amp\")\n",
    "\n",
    "# Set initial parameter guesses\n",
    "fit.SetParameters(10, -10, 10, 60, 1, 1)\n",
    "\n",
    "# Fit the histogram\n",
    "result = h.Fit(fit, \"S\")\n",
    "\n",
    "# Print results\n",
    "print(\"Fit Status:\", result.Status())\n",
    "print(\"Chi2/NDF:\", fit.GetChisquare()/fit.GetNDF())\n",
    "\n",
    "# Print parameters\n",
    "for i in range(6):\n",
    "    print(f\"{fit.GetParName(i)}: {fit.GetParameter(i):.3f} ± {fit.GetParError(i):.3f}\")\n",
    "# Draw the histogram and fit\n",
    "c1 = ROOT.TCanvas(\"c1\", \"Fit Result\", 800, 600)\n",
    "h.Draw()\n",
    "fit.Draw(\"same\")\n",
    "c1.Draw()"
   ]
  },
  {
   "cell_type": "code",
   "execution_count": null,
   "id": "99a0da27-078f-4f5d-814c-36334e28bbdd",
   "metadata": {},
   "outputs": [],
   "source": []
  },
  {
   "cell_type": "code",
   "execution_count": null,
   "id": "57348fde-ffc0-4c56-999f-d0403e7a6aee",
   "metadata": {},
   "outputs": [],
   "source": []
  }
 ],
 "metadata": {
  "kernelspec": {
   "display_name": "Python 3 (ipykernel)",
   "language": "python",
   "name": "python3"
  },
  "language_info": {
   "codemirror_mode": {
    "name": "ipython",
    "version": 3
   },
   "file_extension": ".py",
   "mimetype": "text/x-python",
   "name": "python",
   "nbconvert_exporter": "python",
   "pygments_lexer": "ipython3",
   "version": "3.9.14"
  }
 },
 "nbformat": 4,
 "nbformat_minor": 5
}
