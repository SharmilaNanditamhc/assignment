{
 "cells": [
  {
   "cell_type": "code",
   "execution_count": null,
   "id": "8ca58eb9-ec48-4c71-aae7-9ce8b9452653",
   "metadata": {},
   "outputs": [],
   "source": [
    "import ROOT \n"
   ]
  },
  {
   "cell_type": "code",
   "execution_count": null,
   "id": "a6d3a3d8-16ff-440b-b44a-2aeee568a4d2",
   "metadata": {},
   "outputs": [],
   "source": [
    "import ROOT\n",
    "\n",
    "treename = \"Events\"\n",
    "filename = \"root://eospublic.cern.ch//eos/opendata/cms/derived-data/AOD2NanoAODOutreachTool/Run2012BC_DoubleMuParked_Muons.root\"\n",
    "\n",
    "\n",
    "df = ROOT.RDataFrame(treename, filename)\n",
    "\n",
    "# Let's check the number of entries as a quick sanity check\n",
    "print(\"Number of events in dataset:\", df.Count().GetValue())\n"
   ]
  },
  {
   "cell_type": "code",
   "execution_count": null,
   "id": "abb0da2e-899f-4a2c-bb77-55b98250a50b",
   "metadata": {},
   "outputs": [],
   "source": [
    "\n",
    "df_range = df.Range(1_000_000)\n",
    "\n",
    "\n",
    "print(\"Number of events in the subset:\", df_range.Count().GetValue())\n"
   ]
  },
  {
   "cell_type": "code",
   "execution_count": null,
   "id": "b017920b-5857-4337-b3cb-ce3b2fbb9fd3",
   "metadata": {},
   "outputs": [],
   "source": [
    "\n",
    "df_2mu = df_range.Filter(\"nMuon == 2\", \"Events with exactly two muons\")\n",
    "\n",
    "\n",
    "df_oc = df_2mu.Filter(\"Muon_charge[0] != Muon_charge[1]\", \"Muons with opposite charge\")\n"
   ]
  },
  {
   "cell_type": "code",
   "execution_count": null,
   "id": "e62fa7a7-88d5-4056-b61f-e0d6fbe00dfd",
   "metadata": {},
   "outputs": [],
   "source": [
    "df_mass = df_oc.Define(\"Dimuon_mass\", \"ROOT::VecOps::InvariantMass(Muon_pt, Muon_eta, Muon_phi, Muon_mass)\")\n"
   ]
  },
  {
   "cell_type": "code",
   "execution_count": null,
   "id": "d0c2d3f3-6f96-4999-bf26-7c33b8686772",
   "metadata": {},
   "outputs": [],
   "source": [
    "nbins = 30000\n",
    "low = 0.25\n",
    "up = 300\n",
    "histo_name = \"Dimuon_mass\"\n",
    "histo_title = histo_name\n",
    "\n",
    "h = df_mass.Histo1D((histo_name, histo_title, nbins, low, up), \"Dimuon_mass\")\n"
   ]
  },
  {
   "cell_type": "code",
   "execution_count": null,
   "id": "5915b34a-1ba2-4304-a7bf-20ac39b329b3",
   "metadata": {},
   "outputs": [],
   "source": [
    "import ROOT\n",
    "c = ROOT.TCanvas()\n",
    "h.Draw()\n",
    "c.Draw()\n"
   ]
  },
  {
   "cell_type": "code",
   "execution_count": null,
   "id": "4b4e3b1b-79ee-4d48-9030-b70f027de94f",
   "metadata": {},
   "outputs": [],
   "source": [
    "report = df_mass.Report()\n",
    "report.Print()"
   ]
  },
  {
   "cell_type": "code",
   "execution_count": null,
   "id": "84e97f30-fec3-4154-8d5f-eb6d8069d106",
   "metadata": {},
   "outputs": [],
   "source": [
    "# Book the report\n",
    "report = df_mass.Report()\n",
    "\n",
    "# Run the event loop and draw the histogram, then print the report\n",
    "%%time\n",
    "\n",
    "ROOT.gStyle.SetOptStat(0)\n",
    "ROOT.gStyle.SetTextFont(42)\n",
    "c = ROOT.TCanvas(\"c\", \"\", 800, 700)\n",
    "c.SetLogx()\n",
    "c.SetLogy()\n",
    "h.SetTitle(\"\")\n",
    "h.GetXaxis().SetTitle(\"m_{#mu#mu} (GeV)\")\n",
    "h.GetXaxis().SetTitleSize(0.04)\n",
    "h.GetYaxis().SetTitle(\"N_{Events}\")\n",
    "h.GetYaxis().SetTitleSize(0.04)\n",
    "h.Draw()\n",
    "\n",
    "label = ROOT.TLatex()\n",
    "label.SetNDC(True)\n",
    "label.SetTextSize(0.040)\n",
    "label.DrawLatex(0.100, 0.920, \"#bf{CMS Open Data}\")\n",
    "label.SetTextSize(0.030)\n",
    "label.DrawLatex(0.500, 0.920, \"#sqrt{s} = 8 TeV, L_{int} = 11.6 fb^{-1}\")\n",
    "\n",
    "c.Draw()\n",
    "\n",
    "report.Print()\n"
   ]
  },
  {
   "cell_type": "code",
   "execution_count": null,
   "id": "d0774829-fa6c-427e-9f97-f926064cdb24",
   "metadata": {},
   "outputs": [],
   "source": []
  },
  {
   "cell_type": "code",
   "execution_count": null,
   "id": "33635660-b663-40e6-b80c-1a9efedf6c72",
   "metadata": {},
   "outputs": [],
   "source": []
  }
 ],
 "metadata": {
  "kernelspec": {
   "display_name": "Python 3 (ipykernel)",
   "language": "python",
   "name": "python3"
  },
  "language_info": {
   "codemirror_mode": {
    "name": "ipython",
    "version": 3
   },
   "file_extension": ".py",
   "mimetype": "text/x-python",
   "name": "python",
   "nbconvert_exporter": "python",
   "pygments_lexer": "ipython3",
   "version": "3.9.14"
  }
 },
 "nbformat": 4,
 "nbformat_minor": 5
}
